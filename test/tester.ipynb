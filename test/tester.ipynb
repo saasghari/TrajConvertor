{
 "cells": [
  {
   "cell_type": "code",
   "execution_count": 8,
   "id": "6e36bb50",
   "metadata": {},
   "outputs": [],
   "source": [
    "##### install package instruction\n",
    "\n",
    "## in local system\n",
    "# >pip install F:\\Projects\\Trajectory\\implement\\TrajConvertor\\TrajConvertor\n",
    "\n",
    "## in Goocle Colab\n",
    "# !pip install git+https://github.com/saasghari/TrajConvertor.git"
   ]
  },
  {
   "cell_type": "code",
   "execution_count": 3,
   "id": "07ed1ecb",
   "metadata": {},
   "outputs": [
    {
     "name": "stdout",
     "output_type": "stream",
     "text": [
      "Hello! The test is successful.\n",
      "test2\n"
     ]
    }
   ],
   "source": [
    "from  TrajConvertor import GeolifeConvertor\n",
    "GeolifeConvertor.testfunction()"
   ]
  },
  {
   "cell_type": "code",
   "execution_count": null,
   "id": "7fcc47d7",
   "metadata": {},
   "outputs": [],
   "source": [
    "### program for copy all traj files in geolife from multiple separate folders to one folder\n",
    "### with progress bar\n",
    "\n",
    "import os\n",
    "import shutil\n",
    "\n",
    "src=\"F:\\\\Projects\\\\Trajectory\\\\datasets\\\\Geolife\\\\from Microsoft\\\\Geolife Trajectories 1.3\\\\Geolife Trajectories 1.3\\\\Data\"\n",
    "des=\"F:\\\\Projects\\\\Trajectory\\\\datasets\\\\Geolife\\\\from Microsoft\\\\Geolife Trajectories 1.3\\\\Geolife Trajectories 1.3\\\\onlytrajs\"\n",
    "\n",
    "# progress bar\n",
    "cnt=0   # counter for progress bar\n",
    "tn=18670  # total number for progress bar\n",
    "\n",
    "for path, subdirs, files in os.walk(src):\n",
    "    for fname in files:\n",
    "        spf=fname.split('.')\n",
    "        if(spf[1]==\"plt\"):\n",
    "            srcfn=path+\"\\\\\"+fname\n",
    "            desfn=des+\"\\\\GL_\"+str(cnt)+\".plt\"\n",
    "            shutil.copy(srcfn,desfn)\n",
    "            \n",
    "            # progress bar\n",
    "            p=int(cnt*100/tn)\n",
    "            print(\"progress...\",end=\" \")\n",
    "            print('\\033[92m'+str(p)+\"%\"+'\\033[0m', end=\"\\r\")\n",
    "            cnt=cnt+1\n",
    "# progress bar\n",
    "print(\"progress...\",end=\" \")\n",
    "print('\\033[92m'+\"100%\"+'\\033[0m', end=\"\\r\")"
   ]
  },
  {
   "cell_type": "code",
   "execution_count": 1,
   "id": "61154869",
   "metadata": {},
   "outputs": [
    {
     "name": "stdout",
     "output_type": "stream",
     "text": [
      "progress... \u001b[92m100%\u001b[0m\r"
     ]
    }
   ],
   "source": [
    "from  TrajConvertor import GeolifeConvertor\n",
    "\n",
    "src=\"F:/Projects/Trajectory/implement/TrajConvertor/TrajConvertor/data/src\"\n",
    "des=\"F:/Projects/Trajectory/implement/TrajConvertor/TrajConvertor/data/des\"\n",
    "\n",
    "GeolifeConvertor.GeolifeConvert(src, des)\n",
    "\n"
   ]
  }
 ],
 "metadata": {
  "kernelspec": {
   "display_name": "TrajConvertor_venv",
   "language": "python",
   "name": "python3"
  },
  "language_info": {
   "codemirror_mode": {
    "name": "ipython",
    "version": 3
   },
   "file_extension": ".py",
   "mimetype": "text/x-python",
   "name": "python",
   "nbconvert_exporter": "python",
   "pygments_lexer": "ipython3",
   "version": "3.12.5"
  }
 },
 "nbformat": 4,
 "nbformat_minor": 5
}
