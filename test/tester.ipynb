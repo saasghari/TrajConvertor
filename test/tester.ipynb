{
 "cells": [
  {
   "cell_type": "code",
   "execution_count": null,
   "id": "6e36bb50",
   "metadata": {},
   "outputs": [],
   "source": [
    "##### install package instruction\n",
    "\n",
    "## in local system\n",
    "# pip install F:\\Projects\\Trajectory\\implement\\TrajConvertor\\TrajConvertor\n",
    "\n",
    "## in Goocle Colab\n",
    "# !pip install git+https://github.com/saasghari/TrajConvertor"
   ]
  },
  {
   "cell_type": "code",
   "execution_count": null,
   "id": "07ed1ecb",
   "metadata": {},
   "outputs": [
    {
     "name": "stdout",
     "output_type": "stream",
     "text": [
      "Hello! function in package\n"
     ]
    }
   ],
   "source": [
    "from  TrajConvertor import GeolifeConvertor\n",
    "GeolifeConvertor.testfuction()"
   ]
  }
 ],
 "metadata": {
  "kernelspec": {
   "display_name": "pypack_venv",
   "language": "python",
   "name": "python3"
  },
  "language_info": {
   "codemirror_mode": {
    "name": "ipython",
    "version": 3
   },
   "file_extension": ".py",
   "mimetype": "text/x-python",
   "name": "python",
   "nbconvert_exporter": "python",
   "pygments_lexer": "ipython3",
   "version": "3.12.5"
  }
 },
 "nbformat": 4,
 "nbformat_minor": 5
}
